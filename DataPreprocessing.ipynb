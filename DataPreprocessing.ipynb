{
 "cells": [
  {
   "cell_type": "code",
   "id": "initial_id",
   "metadata": {
    "collapsed": true,
    "ExecuteTime": {
     "end_time": "2025-01-15T09:55:49.161558Z",
     "start_time": "2025-01-15T09:55:18.908774Z"
    }
   },
   "source": [
    "import pandas as pd\n",
    "\n",
    "ratings_path = \"datas/ratings.csv\"\n",
    "ratings = pd.read_csv(ratings_path)\n",
    "\n",
    "\n",
    "user_counts = ratings['userId'].value_counts()\n",
    "\n",
    "# Filtrer les utilisateurs ayant au moins 50 lignes\n",
    "users_to_keep = user_counts[user_counts >= 50].index\n",
    "user_filtered_df = ratings[ratings['userId'].isin(users_to_keep)]\n",
    "\n",
    "\n",
    "user_filtered_df.to_csv('datas/ratings_filtered_v1.csv', index=False)\n",
    "print(f\"Les utilisateurs ayant moins de 10 notes ont été supprimées\")"
   ],
   "outputs": [
    {
     "name": "stdout",
     "output_type": "stream",
     "text": [
      "La taille du tableau initial est : (32000204, 4)\n",
      "Les utilisateurs ayant moins de 10 notes ont été supprimées\n"
     ]
    }
   ],
   "execution_count": 1
  },
  {
   "metadata": {
    "ExecuteTime": {
     "end_time": "2025-01-15T09:56:13.602909Z",
     "start_time": "2025-01-15T09:55:49.168082Z"
    }
   },
   "cell_type": "code",
   "source": [
    "movie_counts = user_filtered_df['movieId'].value_counts()\n",
    "\n",
    "# Filtrer les films ayant au moins 10 lignes\n",
    "movies_to_keep = movie_counts[movie_counts >= 10].index\n",
    "movie_filtered_df = user_filtered_df[user_filtered_df['movieId'].isin(movies_to_keep)]\n",
    "\n",
    "movie_filtered_df.to_csv('datas/ratings_filtered_vf.csv', index=False)\n",
    "\n",
    "print(\"Les films ayant moins de 10 notes ont été supprimées\")\n",
    "\n"
   ],
   "id": "964dcb9ea3907033",
   "outputs": [
    {
     "name": "stdout",
     "output_type": "stream",
     "text": [
      "Les films ayant moins de 10 notes ont été supprimées\n"
     ]
    }
   ],
   "execution_count": 2
  },
  {
   "metadata": {
    "ExecuteTime": {
     "end_time": "2025-01-15T09:56:56.266884Z",
     "start_time": "2025-01-15T09:56:13.735144Z"
    }
   },
   "cell_type": "code",
   "source": [
    "movies = pd.read_csv(\"datas/movies.csv\")\n",
    "\n",
    "merged_table = pd.merge(movie_filtered_df, movies, on='movieId', how='left')\n",
    "\n",
    "merged_table.to_csv(\"datas/ratings_with_genres.csv\", index=False)\n",
    "\n",
    "print(\"Les genres ont été fusionnés avec les notes\")"
   ],
   "id": "8aaaa1b9a9c53d32",
   "outputs": [
    {
     "name": "stdout",
     "output_type": "stream",
     "text": [
      "Les genres ont été fusionnés avec les notes\n"
     ]
    }
   ],
   "execution_count": 3
  },
  {
   "metadata": {
    "ExecuteTime": {
     "end_time": "2025-01-15T10:00:11.328551Z",
     "start_time": "2025-01-15T09:56:56.291726Z"
    }
   },
   "cell_type": "code",
   "source": [
    "# Séparer les genres dans des lignes distinctes\n",
    "ratings_with_genre_separated = merged_table.assign(genres=merged_table['genres'].str.split('|')).explode('genres')\n",
    "\n",
    "ratings_with_genre_separated.to_csv('datas/ratings_with_genre_separated.csv', index=False)"
   ],
   "id": "207b9c5c5f420bea",
   "outputs": [],
   "execution_count": 4
  },
  {
   "metadata": {
    "ExecuteTime": {
     "end_time": "2025-01-15T10:00:27.940888Z",
     "start_time": "2025-01-15T10:00:11.366257Z"
    }
   },
   "cell_type": "code",
   "source": [
    "# Création du csv contentant les notes par genre des utilisateurs\n",
    "average_ratings = ratings_with_genre_separated.groupby(['userId', 'genres'])['rating'].mean().reset_index()\n",
    "average_ratings.rename(columns={'rating': 'average_rating'}, inplace=True)\n",
    "\n",
    "global_genre_mean = average_ratings.groupby('genres')['average_rating'].mean()\n",
    "\n",
    "# Transformer le tableau pour que les genres deviennent des colonnes\n",
    "pivot_table = average_ratings.pivot(index='userId', columns='genres', values='average_rating')\n",
    "\n",
    "# Remplacer les valeurs manquantes par des 0\n",
    "pivot_table = pivot_table.fillna(0)\n",
    "pivot_table.to_csv('datas/user_genre_ratings_with_0.csv', index=False)"
   ],
   "id": "98c74dacac222187",
   "outputs": [],
   "execution_count": 5
  }
 ],
 "metadata": {
  "kernelspec": {
   "display_name": "Python 3",
   "language": "python",
   "name": "python3"
  },
  "language_info": {
   "codemirror_mode": {
    "name": "ipython",
    "version": 2
   },
   "file_extension": ".py",
   "mimetype": "text/x-python",
   "name": "python",
   "nbconvert_exporter": "python",
   "pygments_lexer": "ipython2",
   "version": "2.7.6"
  }
 },
 "nbformat": 4,
 "nbformat_minor": 5
}
