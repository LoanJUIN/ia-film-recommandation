{
 "cells": [
  {
   "cell_type": "code",
   "id": "initial_id",
   "metadata": {
    "collapsed": true,
    "ExecuteTime": {
     "end_time": "2025-01-15T10:18:33.792157Z",
     "start_time": "2025-01-15T10:18:28.391107Z"
    }
   },
   "source": [
    "import pandas as pd\n",
    "\n",
    "ratings = pd.read_csv('datas/ratings_filtered_vf.csv').head(500000)\n",
    "movies = pd.read_csv('datas/movies.csv')\n",
    "\n"
   ],
   "outputs": [],
   "execution_count": 7
  },
  {
   "metadata": {
    "ExecuteTime": {
     "end_time": "2025-01-15T10:14:25.830675Z",
     "start_time": "2025-01-15T10:14:25.816118Z"
    }
   },
   "cell_type": "code",
   "source": "movie_titles = dict(zip(movies['movieId'], movies['title']))",
   "id": "8c651a37e754e179",
   "outputs": [],
   "execution_count": 2
  },
  {
   "metadata": {
    "ExecuteTime": {
     "end_time": "2025-01-15T10:14:26.206613Z",
     "start_time": "2025-01-15T10:14:25.948760Z"
    }
   },
   "cell_type": "code",
   "source": [
    "import numpy as np\n",
    "from scipy.sparse import csr_matrix\n",
    "\n",
    "def create_user_item_matrix(df):\n",
    "    num_users = df['userId'].nunique()\n",
    "    num_movies = df['movieId'].nunique()\n",
    "\n",
    "    user_id_to_index = dict(zip(np.unique(df[\"userId\"]), list(range(num_users))))\n",
    "    movie_id_to_index = dict(zip(np.unique(df[\"movieId\"]), list(range(num_movies))))\n",
    "    \n",
    "    index_to_user_id = dict(zip(list(range(num_users)), np.unique(df[\"userId\"])))\n",
    "    index_to_movie_id = dict(zip(list(range(num_movies)), np.unique(df[\"movieId\"])))\n",
    "    \n",
    "    user_indices = [user_id_to_index[i] for i in df['userId']]\n",
    "    movie_indices = [movie_id_to_index[i] for i in df['movieId']]\n",
    "\n",
    "    user_item_matrix = csr_matrix((df[\"rating\"], (user_indices, movie_indices)), shape=(num_users, num_movies))\n",
    "    \n",
    "    return user_item_matrix, user_id_to_index, movie_id_to_index, index_to_user_id, index_to_movie_id\n",
    "\n",
    "user_item_matrix, user_id_to_index, movie_id_to_index, index_to_user_id, index_to_movie_id = create_user_item_matrix(ratings)"
   ],
   "id": "24e8f54aaab62e8d",
   "outputs": [],
   "execution_count": 3
  },
  {
   "metadata": {
    "ExecuteTime": {
     "end_time": "2025-01-15T10:14:26.859244Z",
     "start_time": "2025-01-15T10:14:26.210986Z"
    }
   },
   "cell_type": "code",
   "source": [
    "from sklearn.decomposition import TruncatedSVD\n",
    "\n",
    "svd = TruncatedSVD(n_components=20, n_iter=10)\n",
    "movie_feature_matrix = svd.fit_transform(user_item_matrix.T)\n",
    "movie_feature_matrix.shape"
   ],
   "id": "36539f8996e5fd35",
   "outputs": [
    {
     "data": {
      "text/plain": [
       "(19163, 20)"
      ]
     },
     "execution_count": 4,
     "metadata": {},
     "output_type": "execute_result"
    }
   ],
   "execution_count": 4
  },
  {
   "metadata": {
    "ExecuteTime": {
     "end_time": "2025-01-15T10:14:26.903035Z",
     "start_time": "2025-01-15T10:14:26.883739Z"
    }
   },
   "cell_type": "code",
   "source": [
    "from sklearn.neighbors import NearestNeighbors\n",
    "\n",
    "def recommend_movies_knn(movie_id, feature_matrix, movie_id_to_index, index_to_movie_id, num_recommendations, distance_metric='cosine'):\n",
    "    if movie_id not in movie_id_to_index:\n",
    "        print(\"No movie found\")\n",
    "        return []\n",
    "    \n",
    "    feature_matrix = feature_matrix.T\n",
    "    recommended_movie_ids = []\n",
    "    \n",
    "    movie_index = movie_id_to_index[movie_id]\n",
    "    movie_vector = feature_matrix[movie_index]\n",
    "    if isinstance(movie_vector, (np.ndarray)):\n",
    "        movie_vector = movie_vector.reshape(1, -1)\n",
    "        \n",
    "    knn_model = NearestNeighbors(n_neighbors=num_recommendations + 1, algorithm=\"brute\", metric=distance_metric)\n",
    "    knn_model.fit(feature_matrix)\n",
    "    neighbors = knn_model.kneighbors(movie_vector, return_distance=False)\n",
    "    for i in range(1, num_recommendations + 1):\n",
    "        neighbor_index = neighbors.item(i)\n",
    "        recommended_movie_ids.append(index_to_movie_id[neighbor_index])\n",
    "    \n",
    "    return recommended_movie_ids"
   ],
   "id": "dcba356718ebc07f",
   "outputs": [],
   "execution_count": 5
  },
  {
   "metadata": {
    "ExecuteTime": {
     "end_time": "2025-01-15T10:14:26.939352Z",
     "start_time": "2025-01-15T10:14:26.915447Z"
    }
   },
   "cell_type": "code",
   "source": [
    "movie_id = 109487\n",
    "similar_movie_ids = recommend_movies_knn(movie_id, movie_feature_matrix.T, movie_id_to_index, index_to_movie_id, num_recommendations=10, distance_metric='cosine')\n",
    "movie_title = movie_titles[movie_id]\n",
    "\n",
    "print(f\"Because you watched {movie_title}:\")\n",
    "for similar_movie_id in similar_movie_ids:\n",
    "    print(movie_titles[similar_movie_id])"
   ],
   "id": "6e19618dd1d76a00",
   "outputs": [
    {
     "name": "stdout",
     "output_type": "stream",
     "text": [
      "Because you watched Interstellar (2014):\n",
      "The Martian (2015)\n",
      "Wolf of Wall Street, The (2013)\n",
      "Dark Knight Rises, The (2012)\n",
      "Inception (2010)\n",
      "Django Unchained (2012)\n",
      "The Imitation Game (2014)\n",
      "Mad Max: Fury Road (2015)\n",
      "Ex Machina (2015)\n",
      "Shutter Island (2010)\n",
      "Deadpool (2016)\n"
     ]
    }
   ],
   "execution_count": 6
  }
 ],
 "metadata": {
  "kernelspec": {
   "display_name": "Python 3",
   "language": "python",
   "name": "python3"
  },
  "language_info": {
   "codemirror_mode": {
    "name": "ipython",
    "version": 2
   },
   "file_extension": ".py",
   "mimetype": "text/x-python",
   "name": "python",
   "nbconvert_exporter": "python",
   "pygments_lexer": "ipython2",
   "version": "2.7.6"
  }
 },
 "nbformat": 4,
 "nbformat_minor": 5
}
